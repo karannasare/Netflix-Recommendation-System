{
 "cells": [
  {
   "cell_type": "markdown",
   "id": "7eae1bb5",
   "metadata": {},
   "source": [
    "let’s import the necessary Python libraries and the dataset we need for this task"
   ]
  },
  {
   "cell_type": "code",
   "execution_count": 15,
   "id": "39f565be",
   "metadata": {},
   "outputs": [],
   "source": [
    "import numpy as np\n",
    "import pandas as pd \n",
    "from sklearn.feature_extraction import text\n",
    "from sklearn.metrics.pairwise import cosine_similarity \n",
    "\n",
    "import nltk  # Natural Language Toolkit \n",
    "             # It is one of the most powerful NLP libraries,\n",
    "             # which contains packages to make machines understand human language\n",
    "             # and reply to it with an appropriate response.\n",
    "            \n",
    "import re    # Re library in python holds the key to deal with all the problems relating to textual data analysis. \n",
    "             # This library provides a range of methods that can help you build patterns \n",
    "             # and extract or substitute the desired string.\n"
   ]
  },
  {
   "cell_type": "markdown",
   "id": "900d51c4",
   "metadata": {},
   "source": [
    "let's import the dataset from kaggle of netflix "
   ]
  },
  {
   "cell_type": "code",
   "execution_count": 16,
   "id": "2adb6e81",
   "metadata": {},
   "outputs": [],
   "source": [
    "data = pd.read_csv('netflixData.csv')"
   ]
  },
  {
   "cell_type": "code",
   "execution_count": 25,
   "id": "b0ff0550",
   "metadata": {},
   "outputs": [
    {
     "data": {
      "text/html": [
       "<div>\n",
       "<style scoped>\n",
       "    .dataframe tbody tr th:only-of-type {\n",
       "        vertical-align: middle;\n",
       "    }\n",
       "\n",
       "    .dataframe tbody tr th {\n",
       "        vertical-align: top;\n",
       "    }\n",
       "\n",
       "    .dataframe thead th {\n",
       "        text-align: right;\n",
       "    }\n",
       "</style>\n",
       "<table border=\"1\" class=\"dataframe\">\n",
       "  <thead>\n",
       "    <tr style=\"text-align: right;\">\n",
       "      <th></th>\n",
       "      <th>Title</th>\n",
       "      <th>Description</th>\n",
       "      <th>Genres</th>\n",
       "      <th>Content Type</th>\n",
       "    </tr>\n",
       "  </thead>\n",
       "  <tbody>\n",
       "    <tr>\n",
       "      <th>1</th>\n",
       "      <td>#Alive</td>\n",
       "      <td>As a grisly virus rampages a city, a lone man ...</td>\n",
       "      <td>Horror Movies, International Movies, Thrillers</td>\n",
       "      <td>Movie</td>\n",
       "    </tr>\n",
       "    <tr>\n",
       "      <th>2</th>\n",
       "      <td>#AnneFrank - Parallel Stories</td>\n",
       "      <td>Through her diary, Anne Frank's story is retol...</td>\n",
       "      <td>Documentaries, International Movies</td>\n",
       "      <td>Movie</td>\n",
       "    </tr>\n",
       "    <tr>\n",
       "      <th>3</th>\n",
       "      <td>#blackAF</td>\n",
       "      <td>Kenya Barris and his family navigate relations...</td>\n",
       "      <td>TV Comedies</td>\n",
       "      <td>TV Show</td>\n",
       "    </tr>\n",
       "    <tr>\n",
       "      <th>4</th>\n",
       "      <td>#cats_the_mewvie</td>\n",
       "      <td>This pawesome documentary explores how our fel...</td>\n",
       "      <td>Documentaries, International Movies</td>\n",
       "      <td>Movie</td>\n",
       "    </tr>\n",
       "    <tr>\n",
       "      <th>5</th>\n",
       "      <td>#FriendButMarried</td>\n",
       "      <td>Pining for his high school crush for years, a ...</td>\n",
       "      <td>Dramas, International Movies, Romantic Movies</td>\n",
       "      <td>Movie</td>\n",
       "    </tr>\n",
       "    <tr>\n",
       "      <th>...</th>\n",
       "      <td>...</td>\n",
       "      <td>...</td>\n",
       "      <td>...</td>\n",
       "      <td>...</td>\n",
       "    </tr>\n",
       "    <tr>\n",
       "      <th>195</th>\n",
       "      <td>Across Grace Alley</td>\n",
       "      <td>A young boy, upset by his parents' divorce, be...</td>\n",
       "      <td>Dramas</td>\n",
       "      <td>Movie</td>\n",
       "    </tr>\n",
       "    <tr>\n",
       "      <th>196</th>\n",
       "      <td>Action Replayy</td>\n",
       "      <td>Sick of his parents’ constant squabbling, a yo...</td>\n",
       "      <td>Children &amp; Family Movies, Comedies, Internatio...</td>\n",
       "      <td>Movie</td>\n",
       "    </tr>\n",
       "    <tr>\n",
       "      <th>197</th>\n",
       "      <td>Acts of Vengeance</td>\n",
       "      <td>Devastated by the murder of his wife and child...</td>\n",
       "      <td>Action &amp; Adventure, International Movies</td>\n",
       "      <td>Movie</td>\n",
       "    </tr>\n",
       "    <tr>\n",
       "      <th>198</th>\n",
       "      <td>Ad Vitam</td>\n",
       "      <td>In a future where regeneration technology lets...</td>\n",
       "      <td>Crime TV Shows, International TV Shows, TV Dramas</td>\n",
       "      <td>TV Show</td>\n",
       "    </tr>\n",
       "    <tr>\n",
       "      <th>199</th>\n",
       "      <td>Adam Devine: Best Time of Our Lives</td>\n",
       "      <td>Frenetic comic Adam Devine talks teen awkwardn...</td>\n",
       "      <td>Stand-Up Comedy</td>\n",
       "      <td>Movie</td>\n",
       "    </tr>\n",
       "  </tbody>\n",
       "</table>\n",
       "<p>199 rows × 4 columns</p>\n",
       "</div>"
      ],
      "text/plain": [
       "                                   Title  \\\n",
       "1                                 #Alive   \n",
       "2          #AnneFrank - Parallel Stories   \n",
       "3                               #blackAF   \n",
       "4                       #cats_the_mewvie   \n",
       "5                      #FriendButMarried   \n",
       "..                                   ...   \n",
       "195                   Across Grace Alley   \n",
       "196                       Action Replayy   \n",
       "197                    Acts of Vengeance   \n",
       "198                             Ad Vitam   \n",
       "199  Adam Devine: Best Time of Our Lives   \n",
       "\n",
       "                                           Description  \\\n",
       "1    As a grisly virus rampages a city, a lone man ...   \n",
       "2    Through her diary, Anne Frank's story is retol...   \n",
       "3    Kenya Barris and his family navigate relations...   \n",
       "4    This pawesome documentary explores how our fel...   \n",
       "5    Pining for his high school crush for years, a ...   \n",
       "..                                                 ...   \n",
       "195  A young boy, upset by his parents' divorce, be...   \n",
       "196  Sick of his parents’ constant squabbling, a yo...   \n",
       "197  Devastated by the murder of his wife and child...   \n",
       "198  In a future where regeneration technology lets...   \n",
       "199  Frenetic comic Adam Devine talks teen awkwardn...   \n",
       "\n",
       "                                                Genres Content Type  \n",
       "1       Horror Movies, International Movies, Thrillers        Movie  \n",
       "2                  Documentaries, International Movies        Movie  \n",
       "3                                          TV Comedies      TV Show  \n",
       "4                  Documentaries, International Movies        Movie  \n",
       "5        Dramas, International Movies, Romantic Movies        Movie  \n",
       "..                                                 ...          ...  \n",
       "195                                             Dramas        Movie  \n",
       "196  Children & Family Movies, Comedies, Internatio...        Movie  \n",
       "197           Action & Adventure, International Movies        Movie  \n",
       "198  Crime TV Shows, International TV Shows, TV Dramas      TV Show  \n",
       "199                                    Stand-Up Comedy        Movie  \n",
       "\n",
       "[199 rows x 4 columns]"
      ]
     },
     "execution_count": 25,
     "metadata": {},
     "output_type": "execute_result"
    }
   ],
   "source": [
    "data[1:200]"
   ]
  },
  {
   "cell_type": "markdown",
   "id": "1aa5a079",
   "metadata": {},
   "source": [
    "let’s have a look at whether the data contains null values or not?"
   ]
  },
  {
   "cell_type": "code",
   "execution_count": 18,
   "id": "3fb99eae",
   "metadata": {},
   "outputs": [
    {
     "data": {
      "text/plain": [
       "Show Id                  0\n",
       "Title                    0\n",
       "Description              0\n",
       "Director              2064\n",
       "Genres                   0\n",
       "Cast                   530\n",
       "Production Country     559\n",
       "Release Date             3\n",
       "Rating                   4\n",
       "Duration                 3\n",
       "Imdb Score             608\n",
       "Content Type             0\n",
       "Date Added            1335\n",
       "dtype: int64"
      ]
     },
     "execution_count": 18,
     "metadata": {},
     "output_type": "execute_result"
    }
   ],
   "source": [
    "data.isnull().sum()"
   ]
  },
  {
   "cell_type": "markdown",
   "id": "529af8cc",
   "metadata": {},
   "source": [
    "The dataset contains null values, but before removing the null values, let’s select the columns that we can use to build a Netflix recommendation system"
   ]
  },
  {
   "cell_type": "code",
   "execution_count": 19,
   "id": "d89ee1bf",
   "metadata": {},
   "outputs": [
    {
     "data": {
      "text/html": [
       "<div>\n",
       "<style scoped>\n",
       "    .dataframe tbody tr th:only-of-type {\n",
       "        vertical-align: middle;\n",
       "    }\n",
       "\n",
       "    .dataframe tbody tr th {\n",
       "        vertical-align: top;\n",
       "    }\n",
       "\n",
       "    .dataframe thead th {\n",
       "        text-align: right;\n",
       "    }\n",
       "</style>\n",
       "<table border=\"1\" class=\"dataframe\">\n",
       "  <thead>\n",
       "    <tr style=\"text-align: right;\">\n",
       "      <th></th>\n",
       "      <th>Title</th>\n",
       "      <th>Description</th>\n",
       "      <th>Genres</th>\n",
       "      <th>Content Type</th>\n",
       "    </tr>\n",
       "  </thead>\n",
       "  <tbody>\n",
       "    <tr>\n",
       "      <th>0</th>\n",
       "      <td>(Un)Well</td>\n",
       "      <td>This docuseries takes a deep dive into the luc...</td>\n",
       "      <td>Reality TV</td>\n",
       "      <td>TV Show</td>\n",
       "    </tr>\n",
       "    <tr>\n",
       "      <th>1</th>\n",
       "      <td>#Alive</td>\n",
       "      <td>As a grisly virus rampages a city, a lone man ...</td>\n",
       "      <td>Horror Movies, International Movies, Thrillers</td>\n",
       "      <td>Movie</td>\n",
       "    </tr>\n",
       "    <tr>\n",
       "      <th>2</th>\n",
       "      <td>#AnneFrank - Parallel Stories</td>\n",
       "      <td>Through her diary, Anne Frank's story is retol...</td>\n",
       "      <td>Documentaries, International Movies</td>\n",
       "      <td>Movie</td>\n",
       "    </tr>\n",
       "    <tr>\n",
       "      <th>3</th>\n",
       "      <td>#blackAF</td>\n",
       "      <td>Kenya Barris and his family navigate relations...</td>\n",
       "      <td>TV Comedies</td>\n",
       "      <td>TV Show</td>\n",
       "    </tr>\n",
       "    <tr>\n",
       "      <th>4</th>\n",
       "      <td>#cats_the_mewvie</td>\n",
       "      <td>This pawesome documentary explores how our fel...</td>\n",
       "      <td>Documentaries, International Movies</td>\n",
       "      <td>Movie</td>\n",
       "    </tr>\n",
       "    <tr>\n",
       "      <th>...</th>\n",
       "      <td>...</td>\n",
       "      <td>...</td>\n",
       "      <td>...</td>\n",
       "      <td>...</td>\n",
       "    </tr>\n",
       "    <tr>\n",
       "      <th>5962</th>\n",
       "      <td>الف مبروك</td>\n",
       "      <td>On his wedding day, an arrogant, greedy accoun...</td>\n",
       "      <td>Comedies, Dramas, International Movies</td>\n",
       "      <td>Movie</td>\n",
       "    </tr>\n",
       "    <tr>\n",
       "      <th>5963</th>\n",
       "      <td>دفعة القاهرة</td>\n",
       "      <td>A group of women leaves Kuwait to attend unive...</td>\n",
       "      <td>International TV Shows, TV Dramas</td>\n",
       "      <td>TV Show</td>\n",
       "    </tr>\n",
       "    <tr>\n",
       "      <th>5964</th>\n",
       "      <td>海的儿子</td>\n",
       "      <td>Two brothers start a new life in Singapore, wh...</td>\n",
       "      <td>International TV Shows, TV Dramas</td>\n",
       "      <td>TV Show</td>\n",
       "    </tr>\n",
       "    <tr>\n",
       "      <th>5965</th>\n",
       "      <td>반드시 잡는다</td>\n",
       "      <td>After people in his town start turning up dead...</td>\n",
       "      <td>Dramas, International Movies, Thrillers</td>\n",
       "      <td>Movie</td>\n",
       "    </tr>\n",
       "    <tr>\n",
       "      <th>5966</th>\n",
       "      <td>최강전사 미니특공대 : 영웅의 탄생</td>\n",
       "      <td>Miniforce, a special task force of elite range...</td>\n",
       "      <td>Children &amp; Family Movies</td>\n",
       "      <td>Movie</td>\n",
       "    </tr>\n",
       "  </tbody>\n",
       "</table>\n",
       "<p>5967 rows × 4 columns</p>\n",
       "</div>"
      ],
      "text/plain": [
       "                              Title  \\\n",
       "0                          (Un)Well   \n",
       "1                            #Alive   \n",
       "2     #AnneFrank - Parallel Stories   \n",
       "3                          #blackAF   \n",
       "4                  #cats_the_mewvie   \n",
       "...                             ...   \n",
       "5962                      الف مبروك   \n",
       "5963                   دفعة القاهرة   \n",
       "5964                           海的儿子   \n",
       "5965                        반드시 잡는다   \n",
       "5966            최강전사 미니특공대 : 영웅의 탄생   \n",
       "\n",
       "                                            Description  \\\n",
       "0     This docuseries takes a deep dive into the luc...   \n",
       "1     As a grisly virus rampages a city, a lone man ...   \n",
       "2     Through her diary, Anne Frank's story is retol...   \n",
       "3     Kenya Barris and his family navigate relations...   \n",
       "4     This pawesome documentary explores how our fel...   \n",
       "...                                                 ...   \n",
       "5962  On his wedding day, an arrogant, greedy accoun...   \n",
       "5963  A group of women leaves Kuwait to attend unive...   \n",
       "5964  Two brothers start a new life in Singapore, wh...   \n",
       "5965  After people in his town start turning up dead...   \n",
       "5966  Miniforce, a special task force of elite range...   \n",
       "\n",
       "                                              Genres Content Type  \n",
       "0                                         Reality TV      TV Show  \n",
       "1     Horror Movies, International Movies, Thrillers        Movie  \n",
       "2                Documentaries, International Movies        Movie  \n",
       "3                                        TV Comedies      TV Show  \n",
       "4                Documentaries, International Movies        Movie  \n",
       "...                                              ...          ...  \n",
       "5962          Comedies, Dramas, International Movies        Movie  \n",
       "5963               International TV Shows, TV Dramas      TV Show  \n",
       "5964               International TV Shows, TV Dramas      TV Show  \n",
       "5965         Dramas, International Movies, Thrillers        Movie  \n",
       "5966                        Children & Family Movies        Movie  \n",
       "\n",
       "[5967 rows x 4 columns]"
      ]
     },
     "execution_count": 19,
     "metadata": {},
     "output_type": "execute_result"
    }
   ],
   "source": [
    "data = data[['Title','Description','Genres','Content Type']]\n",
    "data"
   ]
  },
  {
   "cell_type": "markdown",
   "id": "442ed3f4",
   "metadata": {},
   "source": [
    "-  Title        : The title column contains the titles of movies and TV shows on Netflix \n",
    "\n",
    "-  Description  : Description column describes the plot of the TV shows and movies\n",
    "\n",
    "-  Content Type : The Content Type column tells us if it’s a movie or a TV show\n",
    "\n",
    "-  Genre        : The Genre column contains all the genres of the TV show or the movie"
   ]
  },
  {
   "cell_type": "markdown",
   "id": "bfc26a1c",
   "metadata": {},
   "source": [
    "let’s drop the rows containing null values"
   ]
  },
  {
   "cell_type": "code",
   "execution_count": 20,
   "id": "df428639",
   "metadata": {},
   "outputs": [],
   "source": [
    "data = data.dropna()"
   ]
  },
  {
   "cell_type": "markdown",
   "id": "7f35c4fc",
   "metadata": {},
   "source": [
    "Now I will clean the Title column as it contains some data preparation"
   ]
  },
  {
   "cell_type": "code",
   "execution_count": 22,
   "id": "bfd33993",
   "metadata": {},
   "outputs": [],
   "source": [
    "import nltk \n",
    "import re \n",
    "\n",
    "stemmer = nltk.SnowballStemmer(\"english\")\n",
    "from nltk.corpus import stopwords\n",
    "import string\n",
    "stopword=set(stopwords.words('english'))\n",
    "\n",
    "\n",
    "\n"
   ]
  },
  {
   "cell_type": "code",
   "execution_count": 26,
   "id": "acc895a9",
   "metadata": {},
   "outputs": [],
   "source": [
    "def clean(text):\n",
    "    text = str(text).lower()\n",
    "    text = re.sub('\\[.*?\\]', '', text)\n",
    "    text = re.sub('https?://\\S+|www\\.\\S+', '', text)\n",
    "    text = re.sub('<.*?>+', '', text)\n",
    "    text = re.sub('[%s]' % re.escape(string.punctuation), '', text)\n",
    "    text = re.sub('\\n', '', text)\n",
    "    text = re.sub('\\w*\\d\\w*', '', text)\n",
    "    text = [word for word in text.split(' ') if word not in stopword]\n",
    "    text=\" \".join(text)\n",
    "    text = [stemmer.stem(word) for word in text.split(' ')]\n",
    "    text=\" \".join(text)\n",
    "    return text"
   ]
  },
  {
   "cell_type": "code",
   "execution_count": 27,
   "id": "d9ef6317",
   "metadata": {},
   "outputs": [],
   "source": [
    "data[\"Title\"] = data[\"Title\"].apply(clean)"
   ]
  },
  {
   "cell_type": "code",
   "execution_count": 31,
   "id": "2b2f4093",
   "metadata": {},
   "outputs": [
    {
     "data": {
      "text/plain": [
       "546       barbi life dreamhous\n",
       "1817           ginni wed sunni\n",
       "5872        world famous lover\n",
       "731                 blown away\n",
       "356       tomorrow entir world\n",
       "2155          hunter x hunter \n",
       "4915                innoc file\n",
       "1642               first match\n",
       "22                            \n",
       "4056    saint seiya lost canva\n",
       "Name: Title, dtype: object"
      ]
     },
     "execution_count": 31,
     "metadata": {},
     "output_type": "execute_result"
    }
   ],
   "source": [
    "data.Title.sample(10)"
   ]
  },
  {
   "cell_type": "markdown",
   "id": "564a4cb4",
   "metadata": {},
   "source": [
    "Now I will use the Genres column as the feature to recommend similar content to the user. I will use the concept of cosine similarity"
   ]
  },
  {
   "cell_type": "code",
   "execution_count": 39,
   "id": "76257636",
   "metadata": {},
   "outputs": [],
   "source": [
    "feature = data[\"Genres\"].tolist()"
   ]
  },
  {
   "cell_type": "markdown",
   "id": "66d6df9d",
   "metadata": {},
   "source": [
    "v"
   ]
  },
  {
   "cell_type": "code",
   "execution_count": 40,
   "id": "6bb761e6",
   "metadata": {},
   "outputs": [],
   "source": [
    "tfidf = text.TfidfVectorizer(input=feature, stop_words=\"english\")"
   ]
  },
  {
   "cell_type": "markdown",
   "id": "d6c03822",
   "metadata": {},
   "source": [
    "v"
   ]
  },
  {
   "cell_type": "code",
   "execution_count": 41,
   "id": "53210245",
   "metadata": {},
   "outputs": [],
   "source": [
    "tfidf_matrix = tfidf.fit_transform(feature)"
   ]
  },
  {
   "cell_type": "markdown",
   "id": "9baeec17",
   "metadata": {},
   "source": [
    "v"
   ]
  },
  {
   "cell_type": "code",
   "execution_count": 42,
   "id": "6caf2225",
   "metadata": {},
   "outputs": [],
   "source": [
    "similarity = cosine_similarity(tfidf_matrix)"
   ]
  },
  {
   "cell_type": "markdown",
   "id": "d8a7ac12",
   "metadata": {},
   "source": [
    "Now I will set the Title column as an index \n",
    "so that we can find similar content \n",
    "by giving the title of the movie or TV show as an input"
   ]
  },
  {
   "cell_type": "code",
   "execution_count": 43,
   "id": "745aa248",
   "metadata": {},
   "outputs": [],
   "source": [
    "indices = pd.Series(data.index,index=data['Title']).drop_duplicates()"
   ]
  },
  {
   "cell_type": "markdown",
   "id": "c1dc5952",
   "metadata": {},
   "source": [
    "Now here’s how to write a function to recommend Movies and TV shows on Netflix"
   ]
  },
  {
   "cell_type": "code",
   "execution_count": 44,
   "id": "3633ba49",
   "metadata": {},
   "outputs": [],
   "source": [
    "def netFlix_recommendation(title, similarity = similarity):\n",
    "    index = indices[title]\n",
    "    similarity_scores = list(enumerate(similarity[index]))\n",
    "    similarity_scores = sorted(similarity_scores, key=lambda x: x[1], reverse=True)\n",
    "    similarity_scores = similarity_scores[0:10]\n",
    "    movieindices = [i[0] for i in similarity_scores]\n",
    "    return data['Title'].iloc[movieindices]"
   ]
  },
  {
   "cell_type": "code",
   "execution_count": 45,
   "id": "5a403282",
   "metadata": {},
   "outputs": [
    {
     "name": "stdout",
     "output_type": "stream",
     "text": [
      "3                          blackaf\n",
      "285                     washington\n",
      "417                 arrest develop\n",
      "434     astronomi club sketch show\n",
      "451    aunti donna big ol hous fun\n",
      "656                      big mouth\n",
      "752                bojack horseman\n",
      "805                   brew brother\n",
      "935                       champion\n",
      "937                  chappell show\n",
      "Name: Title, dtype: object\n"
     ]
    }
   ],
   "source": [
    "print(netFlix_recommendation(\"girlfriend\"))"
   ]
  },
  {
   "cell_type": "code",
   "execution_count": 46,
   "id": "b1e50e36",
   "metadata": {},
   "outputs": [
    {
     "name": "stdout",
     "output_type": "stream",
     "text": [
      "3                          blackaf\n",
      "285                     washington\n",
      "417                 arrest develop\n",
      "434     astronomi club sketch show\n",
      "451    aunti donna big ol hous fun\n",
      "656                      big mouth\n",
      "752                bojack horseman\n",
      "805                   brew brother\n",
      "935                       champion\n",
      "937                  chappell show\n",
      "Name: Title, dtype: object\n"
     ]
    }
   ],
   "source": [
    "print(netFlix_recommendation(\"washington\"))"
   ]
  },
  {
   "cell_type": "code",
   "execution_count": 51,
   "id": "668f4d05",
   "metadata": {},
   "outputs": [
    {
     "data": {
      "text/plain": [
       "Title\n",
       "unwel                           0\n",
       "aliv                            1\n",
       "annefrank  parallel stori       2\n",
       "blackaf                         3\n",
       "catsthemewvi                    4\n",
       "                             ... \n",
       "الف مبروك                    5962\n",
       "دفعة القاهرة                 5963\n",
       "海的儿子                         5964\n",
       "반드시 잡는다                      5965\n",
       "최강전사 미니특공대  영웅의 탄생           5966\n",
       "Length: 5967, dtype: int64"
      ]
     },
     "execution_count": 51,
     "metadata": {},
     "output_type": "execute_result"
    }
   ],
   "source": [
    "indices"
   ]
  },
  {
   "cell_type": "code",
   "execution_count": 52,
   "id": "9d392376",
   "metadata": {},
   "outputs": [
    {
     "name": "stdout",
     "output_type": "stream",
     "text": [
      "0                         unwel\n",
      "68                          day\n",
      "305                        alon\n",
      "322      america next top model\n",
      "406                         one\n",
      "468    awak million dollar game\n",
      "615            best leftov ever\n",
      "694     black ink crew new york\n",
      "720                 bling empir\n",
      "843                buri bernard\n",
      "Name: Title, dtype: object\n"
     ]
    }
   ],
   "source": [
    "print(netFlix_recommendation(\"unwel\"))"
   ]
  },
  {
   "cell_type": "code",
   "execution_count": 53,
   "id": "3a3a0626",
   "metadata": {},
   "outputs": [
    {
     "name": "stdout",
     "output_type": "stream",
     "text": [
      "1                      aliv\n",
      "178                  aaviri\n",
      "360            andhaghaaram\n",
      "361             andhakaaram\n",
      "398                  apostl\n",
      "1759     game hindi version\n",
      "1760     game tamil version\n",
      "1761    game telugu version\n",
      "1801              ghost lab\n",
      "1804            ghost stori\n",
      "Name: Title, dtype: object\n"
     ]
    }
   ],
   "source": [
    "print(netFlix_recommendation(\"aliv\"))"
   ]
  },
  {
   "cell_type": "markdown",
   "id": "aef8ec2e",
   "metadata": {},
   "source": [
    "So this is how i built a Netflix Recommendation System using the Python programming language"
   ]
  },
  {
   "cell_type": "code",
   "execution_count": null,
   "id": "f92e5739",
   "metadata": {},
   "outputs": [],
   "source": []
  }
 ],
 "metadata": {
  "kernelspec": {
   "display_name": "Python 3 (ipykernel)",
   "language": "python",
   "name": "python3"
  },
  "language_info": {
   "codemirror_mode": {
    "name": "ipython",
    "version": 3
   },
   "file_extension": ".py",
   "mimetype": "text/x-python",
   "name": "python",
   "nbconvert_exporter": "python",
   "pygments_lexer": "ipython3",
   "version": "3.9.12"
  }
 },
 "nbformat": 4,
 "nbformat_minor": 5
}
